{
 "cells": [
  {
   "cell_type": "code",
   "execution_count": 1,
   "outputs": [],
   "source": [
    "# Column-Stochastic Matrix"
   ],
   "metadata": {
    "collapsed": false
   }
  },
  {
   "cell_type": "code",
   "execution_count": 2,
   "outputs": [],
   "source": [
    "import numpy as np"
   ],
   "metadata": {
    "collapsed": false
   }
  },
  {
   "cell_type": "code",
   "execution_count": 3,
   "outputs": [],
   "source": [
    "# Define the transition probability matrix A (replace with your own data)\n",
    "G_5 = np.array([[0, 1, 0, 1], [1, 0, 1, 0], [0, 1, 0, 0], [0, 0, 1, 0]])\n",
    "G_6 = np.array([[0, 0, 0, 0], [1, 0, 0, 0], [1, 1, 0, 0], [1, 1, 1, 0]])"
   ],
   "metadata": {
    "collapsed": false
   }
  },
  {
   "cell_type": "code",
   "execution_count": 4,
   "outputs": [],
   "source": [
    "p_X_win = 0.7\n",
    "G_10 = np.array([[p_X_win, 0, 0, 1-p_X_win, 0, 0], [0, p_X_win, 0, 0, 1-p_X_win, 0], [0, 0, 1, 0, 0, 0], [1-p_X_win, 0, 0, p_X_win, 0, 0], [0, 1-p_X_win, 0, 0, p_X_win, 0], [0, 0, 0, 0, 0, 1]])"
   ],
   "metadata": {
    "collapsed": false
   }
  },
  {
   "cell_type": "code",
   "execution_count": 5,
   "outputs": [],
   "source": [
    "# method of normalize\n",
    "def normalize_columns(matrix):\n",
    "    c_max = 1\n",
    "    column_sums = np.sum(matrix, axis=0)  # Calculate the sum of each column\n",
    "\n",
    "    # Avoid division by zero\n",
    "    column_sums[column_sums == 0] = 1\n",
    "\n",
    "    # Normalize the columns\n",
    "    normalized_matrix = matrix / column_sums * c_max\n",
    "\n",
    "    return normalized_matrix"
   ],
   "metadata": {
    "collapsed": false
   }
  },
  {
   "cell_type": "code",
   "execution_count": 6,
   "outputs": [],
   "source": [
    "G_5 = normalize_columns(G_5)\n",
    "G_6 = normalize_columns(G_6)"
   ],
   "metadata": {
    "collapsed": false
   }
  },
  {
   "cell_type": "code",
   "execution_count": 7,
   "outputs": [],
   "source": [
    "# method of finding Pagerank\n",
    "def pagerank(connectivity_matrix):\n",
    "    n = connectivity_matrix.shape[0]\n",
    "\n",
    "    # Initialize the PageRank vector\n",
    "    v = np.zeros((n, 1))\n",
    "    v[1] = 1\n",
    "\n",
    "    # matrix_A = connectivity_matrix * 0.85 + 0.15 * (1/n) * np.ones(n)\n",
    "\n",
    "    # Calculate Pagerank\n",
    "    epochs = 2**10\n",
    "    for i in range(epochs):\n",
    "        v = np.dot(connectivity_matrix , v)\n",
    "    return v"
   ],
   "metadata": {
    "collapsed": false
   }
  },
  {
   "cell_type": "code",
   "execution_count": 8,
   "outputs": [
    {
     "data": {
      "text/plain": "array([[0. ],\n       [0.5],\n       [0. ],\n       [0. ],\n       [0.5],\n       [0. ]])"
     },
     "execution_count": 8,
     "metadata": {},
     "output_type": "execute_result"
    }
   ],
   "source": [
    "pagerank(G_10)"
   ],
   "metadata": {
    "collapsed": false
   }
  },
  {
   "cell_type": "code",
   "execution_count": 8,
   "outputs": [],
   "source": [],
   "metadata": {
    "collapsed": false
   }
  }
 ],
 "metadata": {
  "kernelspec": {
   "display_name": "Python 3",
   "language": "python",
   "name": "python3"
  },
  "language_info": {
   "codemirror_mode": {
    "name": "ipython",
    "version": 2
   },
   "file_extension": ".py",
   "mimetype": "text/x-python",
   "name": "python",
   "nbconvert_exporter": "python",
   "pygments_lexer": "ipython2",
   "version": "2.7.6"
  }
 },
 "nbformat": 4,
 "nbformat_minor": 0
}
