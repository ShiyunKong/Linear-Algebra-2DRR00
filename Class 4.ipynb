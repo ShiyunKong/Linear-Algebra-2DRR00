{
 "cells": [
  {
   "cell_type": "code",
   "execution_count": 2,
   "outputs": [],
   "source": [
    "# rref"
   ],
   "metadata": {
    "collapsed": false
   }
  },
  {
   "cell_type": "code",
   "execution_count": 3,
   "outputs": [],
   "source": [
    "import sympy as sp\n",
    "# Compute the RREF\n",
    "def compute_rref(matrix):\n",
    "    rref_A, pivot_columns = matrix.rref()\n",
    "\n",
    "    # Display the RREF and pivot columns\n",
    "    print(\"RREF:\")\n",
    "    print(rref_A)\n",
    "    print(\"\\nPivot columns:\", pivot_columns)\n"
   ],
   "metadata": {
    "collapsed": false
   }
  },
  {
   "cell_type": "code",
   "execution_count": 4,
   "outputs": [
    {
     "name": "stdout",
     "output_type": "stream",
     "text": [
      "RREF:\n",
      "Matrix([[1, 0, 1], [0, 1, -3]])\n",
      "\n",
      "Pivot columns: (0, 1)\n"
     ]
    }
   ],
   "source": [
    "# Define the matrix 1.a\n",
    "A = sp.Matrix([\n",
    "    [4, 16, -44],\n",
    "    [-1, 0, -1]\n",
    "])\n",
    "compute_rref(A)"
   ],
   "metadata": {
    "collapsed": false
   }
  },
  {
   "cell_type": "code",
   "execution_count": 5,
   "outputs": [
    {
     "name": "stdout",
     "output_type": "stream",
     "text": [
      "RREF:\n",
      "Matrix([[1, 0, -4], [0, 1, -1], [0, 0, 0]])\n",
      "\n",
      "Pivot columns: (0, 1)\n"
     ]
    }
   ],
   "source": [
    "# Define the matrix 1.b\n",
    "B = sp.Matrix([\n",
    "    [2, -2, -6],\n",
    "    [-4, 6, 10],\n",
    "    [-4, 8, 8]\n",
    "])\n",
    "compute_rref(B)"
   ],
   "metadata": {
    "collapsed": false
   }
  },
  {
   "cell_type": "code",
   "execution_count": 6,
   "outputs": [
    {
     "name": "stdout",
     "output_type": "stream",
     "text": [
      "RREF:\n",
      "Matrix([[1, 0, 0, 2, 1], [0, 1, 0, -4, -2], [0, 0, 1, -2, 2]])\n",
      "\n",
      "Pivot columns: (0, 1, 2)\n"
     ]
    }
   ],
   "source": [
    "# Define the matrix 1.c\n",
    "C = sp.Matrix([\n",
    "    [2, 8, -8, -12, -30],\n",
    "    [5, 22, -8, -62, -55],\n",
    "    [-3, -16, -9, 76, 11]\n",
    "])\n",
    "compute_rref(C)"
   ],
   "metadata": {
    "collapsed": false
   }
  },
  {
   "cell_type": "code",
   "execution_count": 7,
   "outputs": [],
   "source": [
    "# solve augmented matrix"
   ],
   "metadata": {
    "collapsed": false
   }
  },
  {
   "cell_type": "code",
   "execution_count": 8,
   "outputs": [],
   "source": [
    "def solve_augmented_matrix(matrix):\n",
    "    # Define the symbols\n",
    "    x, y, z = sp.symbols('x y z')\n",
    "    solution = sp.linsolve(matrix, x, y, z)\n",
    "\n",
    "    # Display the solution\n",
    "    if not solution:\n",
    "        print(\"The system has zero solutions (is inconsistent).\")\n",
    "    else:\n",
    "        print(\"Solution:\")\n",
    "        sp.pprint(solution)"
   ],
   "metadata": {
    "collapsed": false
   }
  },
  {
   "cell_type": "code",
   "execution_count": 9,
   "outputs": [
    {
     "name": "stdout",
     "output_type": "stream",
     "text": [
      "Solution:\n",
      "{(1, 3, z)}\n"
     ]
    }
   ],
   "source": [
    "# Define the matrix 2.a\n",
    "H = sp.Matrix([\n",
    "    [1, -3, -8],\n",
    "    [3, -8, -21]\n",
    "])\n",
    "solve_augmented_matrix(H)"
   ],
   "metadata": {
    "collapsed": false
   }
  },
  {
   "cell_type": "code",
   "execution_count": 10,
   "outputs": [
    {
     "name": "stdout",
     "output_type": "stream",
     "text": [
      "Solution:\n",
      "{(1 - 3⋅z, 4⋅z - 3, z)}\n"
     ]
    }
   ],
   "source": [
    "# Define the matrix 2.b\n",
    "D = sp.Matrix([\n",
    "    [3, 3, -3, -6],\n",
    "    [-1, 1, -7, -4],\n",
    "    [3, 2, 1, -3]\n",
    "])\n",
    "solve_augmented_matrix(D)"
   ],
   "metadata": {
    "collapsed": false
   }
  },
  {
   "cell_type": "code",
   "execution_count": 11,
   "outputs": [
    {
     "name": "stdout",
     "output_type": "stream",
     "text": [
      "The system has zero solutions (is inconsistent).\n"
     ]
    }
   ],
   "source": [
    "# define the matrix 2.c\n",
    "E = sp.Matrix([\n",
    "    [2, 1, 3, 3, 3],\n",
    "    [3, -3, 3, 0, -18],\n",
    "    [-3, -2, -2, 2, 13],\n",
    "    [3, 0, 3, -3, -24]\n",
    "])\n",
    "solve_augmented_matrix(E)"
   ],
   "metadata": {
    "collapsed": false
   }
  },
  {
   "cell_type": "code",
   "execution_count": 12,
   "outputs": [
    {
     "name": "stdout",
     "output_type": "stream",
     "text": [
      "Solution:\n",
      "{(3 - z, 4 - 3⋅z, z)}\n"
     ]
    }
   ],
   "source": [
    "# define the matrix 3\n",
    "F = sp.Matrix([\n",
    "    [2, 1, 5, 8, 10],\n",
    "    [0, 1, 3, 4, 4],\n",
    "    [1, 1, 4, 6, 7]\n",
    "])\n",
    "solve_augmented_matrix(F)"
   ],
   "metadata": {
    "collapsed": false
   }
  },
  {
   "cell_type": "code",
   "execution_count": 13,
   "outputs": [
    {
     "name": "stdout",
     "output_type": "stream",
     "text": [
      "Solution:\n",
      "{(13/7, 3/7, 3/7)}\n"
     ]
    }
   ],
   "source": [
    "# define the matrix 4.b\n",
    "c = 2\n",
    "G = sp.Matrix([\n",
    "    [1, 2, 3, 4],\n",
    "    [2, c, 1, 5],\n",
    "    [3, 6, c, 9]\n",
    "])\n",
    "solve_augmented_matrix(G)"
   ],
   "metadata": {
    "collapsed": false
   }
  },
  {
   "cell_type": "code",
   "execution_count": 14,
   "outputs": [
    {
     "name": "stdout",
     "output_type": "stream",
     "text": [
      "Solution:\n",
      "{(-2, 3, 0)}\n",
      "Solution:\n",
      "{(-2, 3, 0)}\n",
      "Solution:\n",
      "{(-2, 3, 0)}\n",
      "Solution:\n",
      "{(-2, 3, 0)}\n",
      "Solution:\n",
      "{(-2, 3, 0)}\n",
      "Solution:\n",
      "{(-2, 3, 0)}\n",
      "Solution:\n",
      "{(-2, 3, 0)}\n",
      "Solution:\n",
      "{(-2, 3, 0)}\n",
      "Solution:\n",
      "{(-2, 3, 0)}\n",
      "Solution:\n",
      "{(-2, 3, 0)}\n",
      "Solution:\n",
      "{(-2, 3, 0)}\n",
      "Solution:\n",
      "{(-2, 3, 0)}\n",
      "Solution:\n",
      "{(-2, 3, 0)}\n",
      "Solution:\n",
      "{(-2, 3, 0)}\n",
      "Solution:\n",
      "{(-2, 3, 0)}\n",
      "Solution:\n",
      "{(-2, 3, 0)}\n",
      "Solution:\n",
      "{(-2, 3, 0)}\n",
      "Solution:\n",
      "{(-2, 3, 0)}\n",
      "Solution:\n",
      "{(-2, 3, 0)}\n",
      "Solution:\n",
      "{(-2, 3, 0)}\n",
      "Solution:\n",
      "{(-2, 3, 0)}\n",
      "Solution:\n",
      "{(-2, 3, 0)}\n",
      "Solution:\n",
      "{(-2, 3, 0)}\n",
      "Solution:\n",
      "{(-2, 3, 0)}\n",
      "Solution:\n",
      "{(-2, 3, 0)}\n",
      "Solution:\n",
      "{(-2, 3, 0)}\n",
      "Solution:\n",
      "{(-2, 3, 0)}\n",
      "Solution:\n",
      "{(-2, 3, 0)}\n",
      "Solution:\n",
      "{(-2, 3, 0)}\n",
      "Solution:\n",
      "{(-2, 3, 0)}\n",
      "Solution:\n",
      "{(-2, 3, 0)}\n",
      "Solution:\n",
      "{(-2, 3, 0)}\n",
      "Solution:\n",
      "{(-2, 3, 0)}\n",
      "Solution:\n",
      "{(-2, 3, 0)}\n",
      "Solution:\n",
      "{(-2, 3, 0)}\n",
      "Solution:\n",
      "{(-2, 3, 0)}\n",
      "Solution:\n",
      "{(-2, 3, 0)}\n",
      "Solution:\n",
      "{(-2, 3, 0)}\n",
      "Solution:\n",
      "{(-2, 3, 0)}\n",
      "Solution:\n",
      "{(-2, 3, 0)}\n",
      "Solution:\n",
      "{(-2, 3, 0)}\n",
      "Solution:\n",
      "{(-2, 3, 0)}\n",
      "Solution:\n",
      "{(-2, 3, 0)}\n",
      "Solution:\n",
      "{(-2, 3, 0)}\n",
      "Solution:\n",
      "{(-2, 3, 0)}\n",
      "Solution:\n",
      "{(-2, 3, 0)}\n",
      "Solution:\n",
      "{(-2, 3, 0)}\n",
      "Solution:\n",
      "{(-2, 3, 0)}\n",
      "Solution:\n",
      "{(-2, 3, 0)}\n",
      "Solution:\n",
      "{(-2, 3, 0)}\n",
      "Solution:\n",
      "{(-2, 3, 0)}\n",
      "Solution:\n",
      "{(-2, 3, 0)}\n",
      "Solution:\n",
      "{(-2, 3, 0)}\n",
      "Solution:\n",
      "{(-2, 3, 0)}\n",
      "Solution:\n",
      "{(-2, 3, 0)}\n",
      "Solution:\n",
      "{(-2, 3, 0)}\n",
      "Solution:\n",
      "{(-2, 3, 0)}\n",
      "Solution:\n",
      "{(-2, 3, 0)}\n",
      "Solution:\n",
      "{(-2, 3, 0)}\n",
      "Solution:\n",
      "{(-2, 3, 0)}\n",
      "Solution:\n",
      "{(-2, 3, 0)}\n",
      "Solution:\n",
      "{(-2, 3, 0)}\n",
      "Solution:\n",
      "{(-2, 3, 0)}\n",
      "Solution:\n",
      "{(-2, 3, 0)}\n",
      "Solution:\n",
      "{(-2, 3, 0)}\n",
      "Solution:\n",
      "{(-2, 3, 0)}\n",
      "Solution:\n",
      "{(-2, 3, 0)}\n",
      "Solution:\n",
      "{(-2, 3, 0)}\n",
      "Solution:\n",
      "{(-2, 3, 0)}\n",
      "Solution:\n",
      "{(-2, 3, 0)}\n",
      "Solution:\n",
      "{(-2, 3, 0)}\n",
      "Solution:\n",
      "{(-2, 3, 0)}\n",
      "Solution:\n",
      "{(-2, 3, 0)}\n",
      "Solution:\n",
      "{(-2, 3, 0)}\n",
      "Solution:\n",
      "{(-2, 3, 0)}\n",
      "Solution:\n",
      "{(-2, 3, 0)}\n",
      "Solution:\n",
      "{(-2, 3, 0)}\n",
      "Solution:\n",
      "{(-2, 3, 0)}\n",
      "Solution:\n",
      "{(-2, 3, 0)}\n",
      "Solution:\n",
      "{(-2, 3, 0)}\n",
      "Solution:\n",
      "{(-2, 3, 0)}\n",
      "Solution:\n",
      "{(-2, 3, 0)}\n",
      "Solution:\n",
      "{(-2, 3, 0)}\n",
      "Solution:\n",
      "{(-2, 3, 0)}\n",
      "Solution:\n",
      "{(-2, 3, 0)}\n",
      "Solution:\n",
      "{(-2, 3, 0)}\n",
      "Solution:\n",
      "{(-2, 3, 0)}\n",
      "Solution:\n",
      "{(-2, 3, 0)}\n",
      "Solution:\n",
      "{(-2, 3, 0)}\n",
      "Solution:\n",
      "{(-2, 3, 0)}\n",
      "Solution:\n",
      "{(-2, 3, 0)}\n",
      "Solution:\n",
      "{(-2, 3, 0)}\n",
      "Solution:\n",
      "{(-2, 3, 0)}\n",
      "Solution:\n",
      "{(-2, 3, 0)}\n",
      "Solution:\n",
      "{(-2, 3, 0)}\n",
      "Solution:\n",
      "{(-2, 3, 0)}\n",
      "Solution:\n",
      "{(-2, 3, 0)}\n",
      "Solution:\n",
      "{(-2, 3, 0)}\n",
      "Solution:\n",
      "{(-2, 3, 0)}\n",
      "Solution:\n",
      "{(-2, 3, 0)}\n",
      "Solution:\n",
      "{(-2, 3, 0)}\n",
      "Solution:\n",
      "{(-2, 3, 0)}\n",
      "Solution:\n",
      "{(-2, 3, 0)}\n",
      "Solution:\n",
      "{(-2, 3, 0)}\n",
      "Solution:\n",
      "{(-2, 3, 0)}\n",
      "Solution:\n",
      "{(-2, 3, 0)}\n",
      "Solution:\n",
      "{(-2, 3, 0)}\n",
      "Solution:\n",
      "{(-2, 3, 0)}\n",
      "Solution:\n",
      "{(-2, 3, 0)}\n",
      "Solution:\n",
      "{(z - 2, 3 - 2⋅z, z)}\n",
      "Solution:\n",
      "{(-2, 3, 0)}\n",
      "Solution:\n",
      "{(-2, 3, 0)}\n",
      "Solution:\n",
      "{(-2, 3, 0)}\n",
      "Solution:\n",
      "{(-2, 3, 0)}\n",
      "Solution:\n",
      "{(-2, 3, 0)}\n",
      "Solution:\n",
      "{(-2, 3, 0)}\n",
      "Solution:\n",
      "{(-2, 3, 0)}\n",
      "Solution:\n",
      "{(-2, 3, 0)}\n",
      "Solution:\n",
      "{(-2, 3, 0)}\n",
      "Solution:\n",
      "{(-2, 3, 0)}\n",
      "Solution:\n",
      "{(-2, 3, 0)}\n",
      "Solution:\n",
      "{(-2, 3, 0)}\n",
      "Solution:\n",
      "{(-2, 3, 0)}\n",
      "Solution:\n",
      "{(-2, 3, 0)}\n",
      "Solution:\n",
      "{(-2, 3, 0)}\n",
      "Solution:\n",
      "{(-2, 3, 0)}\n",
      "Solution:\n",
      "{(-2, 3, 0)}\n",
      "Solution:\n",
      "{(-2, 3, 0)}\n",
      "Solution:\n",
      "{(-2, 3, 0)}\n",
      "Solution:\n",
      "{(-2, 3, 0)}\n",
      "Solution:\n",
      "{(-2, 3, 0)}\n",
      "Solution:\n",
      "{(-2, 3, 0)}\n",
      "Solution:\n",
      "{(-2, 3, 0)}\n",
      "Solution:\n",
      "{(-2, 3, 0)}\n",
      "Solution:\n",
      "{(-2, 3, 0)}\n",
      "Solution:\n",
      "{(-2, 3, 0)}\n",
      "Solution:\n",
      "{(-2, 3, 0)}\n",
      "Solution:\n",
      "{(-2, 3, 0)}\n",
      "Solution:\n",
      "{(-2, 3, 0)}\n",
      "Solution:\n",
      "{(-2, 3, 0)}\n",
      "Solution:\n",
      "{(-2, 3, 0)}\n",
      "Solution:\n",
      "{(-2, 3, 0)}\n",
      "Solution:\n",
      "{(-2, 3, 0)}\n",
      "Solution:\n",
      "{(-2, 3, 0)}\n",
      "Solution:\n",
      "{(-2, 3, 0)}\n",
      "Solution:\n",
      "{(-2, 3, 0)}\n",
      "Solution:\n",
      "{(-2, 3, 0)}\n",
      "Solution:\n",
      "{(-2, 3, 0)}\n",
      "Solution:\n",
      "{(-2, 3, 0)}\n",
      "Solution:\n",
      "{(-2, 3, 0)}\n",
      "Solution:\n",
      "{(-2, 3, 0)}\n",
      "Solution:\n",
      "{(-2, 3, 0)}\n",
      "Solution:\n",
      "{(-2, 3, 0)}\n",
      "Solution:\n",
      "{(-2, 3, 0)}\n",
      "Solution:\n",
      "{(-2, 3, 0)}\n",
      "Solution:\n",
      "{(-2, 3, 0)}\n",
      "Solution:\n",
      "{(-2, 3, 0)}\n",
      "Solution:\n",
      "{(-2, 3, 0)}\n",
      "Solution:\n",
      "{(-2, 3, 0)}\n",
      "Solution:\n",
      "{(-2, 3, 0)}\n",
      "Solution:\n",
      "{(-2, 3, 0)}\n",
      "Solution:\n",
      "{(-2, 3, 0)}\n",
      "Solution:\n",
      "{(-2, 3, 0)}\n",
      "Solution:\n",
      "{(-2, 3, 0)}\n",
      "Solution:\n",
      "{(-2, 3, 0)}\n",
      "Solution:\n",
      "{(-2, 3, 0)}\n",
      "Solution:\n",
      "{(-2, 3, 0)}\n",
      "Solution:\n",
      "{(-2, 3, 0)}\n",
      "Solution:\n",
      "{(-2, 3, 0)}\n",
      "Solution:\n",
      "{(-2, 3, 0)}\n",
      "Solution:\n",
      "{(-2, 3, 0)}\n",
      "Solution:\n",
      "{(-2, 3, 0)}\n",
      "Solution:\n",
      "{(-2, 3, 0)}\n",
      "Solution:\n",
      "{(-2, 3, 0)}\n",
      "Solution:\n",
      "{(-2, 3, 0)}\n",
      "Solution:\n",
      "{(-2, 3, 0)}\n",
      "Solution:\n",
      "{(-2, 3, 0)}\n",
      "Solution:\n",
      "{(-2, 3, 0)}\n",
      "Solution:\n",
      "{(-2, 3, 0)}\n",
      "Solution:\n",
      "{(-2, 3, 0)}\n",
      "Solution:\n",
      "{(-2, 3, 0)}\n",
      "Solution:\n",
      "{(-2, 3, 0)}\n",
      "Solution:\n",
      "{(-2, 3, 0)}\n",
      "Solution:\n",
      "{(-2, 3, 0)}\n",
      "Solution:\n",
      "{(-2, 3, 0)}\n",
      "Solution:\n",
      "{(-2, 3, 0)}\n",
      "Solution:\n",
      "{(-2, 3, 0)}\n",
      "Solution:\n",
      "{(-2, 3, 0)}\n",
      "Solution:\n",
      "{(-2, 3, 0)}\n",
      "Solution:\n",
      "{(-2, 3, 0)}\n",
      "Solution:\n",
      "{(-2, 3, 0)}\n",
      "Solution:\n",
      "{(-2, 3, 0)}\n",
      "Solution:\n",
      "{(-2, 3, 0)}\n",
      "Solution:\n",
      "{(-2, 3, 0)}\n",
      "Solution:\n",
      "{(-2, 3, 0)}\n",
      "Solution:\n",
      "{(-2, 3, 0)}\n",
      "Solution:\n",
      "{(-2, 3, 0)}\n",
      "Solution:\n",
      "{(-2, 3, 0)}\n",
      "Solution:\n",
      "{(-2, 3, 0)}\n",
      "Solution:\n",
      "{(-2, 3, 0)}\n"
     ]
    }
   ],
   "source": [
    "# define the matrix (2)\n",
    "for i in range(-100, 100, 1):\n",
    "    d = i\n",
    "    I = sp.Matrix([\n",
    "        [1, 2, 3, 4],\n",
    "        [4, 5, 6, 7],\n",
    "        [7, 8, d, 10]\n",
    "    ])\n",
    "    solve_augmented_matrix(I)"
   ],
   "metadata": {
    "collapsed": false
   }
  },
  {
   "cell_type": "code",
   "execution_count": 15,
   "outputs": [
    {
     "name": "stdout",
     "output_type": "stream",
     "text": [
      "Solution:\n",
      "{(-4, -2, 1)}\n"
     ]
    }
   ],
   "source": [
    "# define the matrix Q2\n",
    "J = sp.Matrix([\n",
    "    [-4, 1, -4, 10],\n",
    "    [0, -3, 2, 8],\n",
    "    [-1, -1, 3, 9]\n",
    "])\n",
    "solve_augmented_matrix(J)"
   ],
   "metadata": {
    "collapsed": false
   }
  },
  {
   "cell_type": "code",
   "execution_count": 16,
   "outputs": [
    {
     "name": "stdout",
     "output_type": "stream",
     "text": [
      "RREF:\n",
      "Matrix([[1, 0, 0, 1/2], [0, 1, 0, 1], [0, 0, 1, 1/2]])\n",
      "\n",
      "Pivot columns: (0, 1, 2)\n"
     ]
    }
   ],
   "source": [
    "# define the matrix Q5\n",
    "K = sp.Matrix([\n",
    "    [5, -3, -3, -2],\n",
    "    [-1, -1, 1, -1],\n",
    "    [-4, 1, 2, 0]\n",
    "])\n",
    "compute_rref(K)"
   ],
   "metadata": {
    "collapsed": false
   }
  },
  {
   "cell_type": "code",
   "execution_count": 17,
   "outputs": [
    {
     "name": "stdout",
     "output_type": "stream",
     "text": [
      "The system has zero solutions (is inconsistent).\n"
     ]
    }
   ],
   "source": [
    "# define the matrix Q2\n",
    "a = 1\n",
    "J = sp.Matrix([\n",
    "    [1, 2, 6, 2],\n",
    "    [0, 1, 2*a, 0],\n",
    "    [a, 0, 2, 1]\n",
    "])\n",
    "solve_augmented_matrix(J)"
   ],
   "metadata": {
    "collapsed": false
   }
  },
  {
   "cell_type": "code",
   "execution_count": 18,
   "outputs": [
    {
     "name": "stdout",
     "output_type": "stream",
     "text": [
      "Solution:\n",
      "{(-4/7, 2/7, 9/7)}\n"
     ]
    }
   ],
   "source": [
    "# define the matrix Q2\n",
    "\n",
    "J = sp.Matrix([\n",
    "    [2, -5, 2, 0],\n",
    "    [4, -1, 2, 0],\n",
    "    [5, 1, 2, 0],\n",
    "    [1, 1, 1, 1]\n",
    "])\n",
    "solve_augmented_matrix(J)"
   ],
   "metadata": {
    "collapsed": false
   }
  },
  {
   "cell_type": "code",
   "execution_count": 19,
   "outputs": [
    {
     "name": "stdout",
     "output_type": "stream",
     "text": [
      "RREF:\n",
      "Matrix([[1, 0, 0, -3/2], [0, 1, 0, 11/2], [0, 0, 1, -4]])\n",
      "\n",
      "Pivot columns: (0, 1, 2)\n"
     ]
    }
   ],
   "source": [
    "# define the matrix Q5\n",
    "K = sp.Matrix([\n",
    "    [5, -1, -3, -1],\n",
    "    [3, -3, -5, -1],\n",
    "    [1, 3, 3, 3]\n",
    "])\n",
    "compute_rref(K)"
   ],
   "metadata": {
    "collapsed": false
   }
  },
  {
   "cell_type": "code",
   "execution_count": 20,
   "outputs": [
    {
     "name": "stdout",
     "output_type": "stream",
     "text": [
      "RREF:\n",
      "Matrix([[1, 0, -3/2], [0, 1, 1], [0, 0, 0]])\n",
      "\n",
      "Pivot columns: (0, 1)\n"
     ]
    }
   ],
   "source": [
    "Q = sp.Matrix([\n",
    "    [6, 5, -4],\n",
    "    [0, 2, 2],\n",
    "    [0, 1, 1]\n",
    "])\n",
    "compute_rref(Q)"
   ],
   "metadata": {
    "collapsed": false
   }
  },
  {
   "cell_type": "code",
   "execution_count": 21,
   "outputs": [
    {
     "name": "stdout",
     "output_type": "stream",
     "text": [
      "Solution:\n",
      "{(4, -4, 6)}\n"
     ]
    }
   ],
   "source": [
    "Q = sp.Matrix([\n",
    "    [2,1,0, 4],\n",
    "    [1,2, 1, 2],\n",
    "    [0, 1, 2, 8]\n",
    "])\n",
    "solve_augmented_matrix(Q)"
   ],
   "metadata": {
    "collapsed": false
   }
  },
  {
   "cell_type": "code",
   "execution_count": 22,
   "outputs": [
    {
     "name": "stdout",
     "output_type": "stream",
     "text": [
      "RREF:\n",
      "Matrix([[1, 0, 0], [0, 1, 0], [0, 0, 1]])\n",
      "\n",
      "Pivot columns: (0, 1, 2)\n"
     ]
    }
   ],
   "source": [
    "Q = sp.Matrix([\n",
    "    [3, 3, 1],\n",
    "    [-8, -6, -1],\n",
    "    [4, 0, -3]\n",
    "])\n",
    "compute_rref(Q)"
   ],
   "metadata": {
    "collapsed": false
   }
  },
  {
   "cell_type": "code",
   "execution_count": 22,
   "outputs": [],
   "source": [
    "sp.solve()"
   ],
   "metadata": {
    "collapsed": false
   }
  }
 ],
 "metadata": {
  "kernelspec": {
   "display_name": "Python 3",
   "language": "python",
   "name": "python3"
  },
  "language_info": {
   "codemirror_mode": {
    "name": "ipython",
    "version": 2
   },
   "file_extension": ".py",
   "mimetype": "text/x-python",
   "name": "python",
   "nbconvert_exporter": "python",
   "pygments_lexer": "ipython2",
   "version": "2.7.6"
  }
 },
 "nbformat": 4,
 "nbformat_minor": 0
}
