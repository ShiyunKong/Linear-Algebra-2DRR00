{
 "cells": [
  {
   "cell_type": "code",
   "execution_count": 1,
   "metadata": {
    "collapsed": true
   },
   "outputs": [],
   "source": [
    "import numpy as np"
   ]
  },
  {
   "cell_type": "code",
   "execution_count": 2,
   "outputs": [
    {
     "data": {
      "text/plain": "array([[-1.  , -2.  ,  0.75],\n       [ 1.  ,  2.  , -0.5 ],\n       [-0.5 , -0.5 ,  0.5 ]])"
     },
     "execution_count": 2,
     "metadata": {},
     "output_type": "execute_result"
    }
   ],
   "source": [
    "np.linalg.inv(np.array([\n",
    "    [6, 5, -4],\n",
    "    [-2, -1, 2],\n",
    "    [4, 4, 0]\n",
    "]))"
   ],
   "metadata": {
    "collapsed": false
   }
  },
  {
   "cell_type": "code",
   "execution_count": 16,
   "outputs": [
    {
     "name": "stdout",
     "output_type": "stream",
     "text": [
      "6.000000000000002\n"
     ]
    }
   ],
   "source": [
    "import numpy as np\n",
    "\n",
    "# Given matrix A\n",
    "A = np.array([[2, 1, 1], [3, 2, 1], [2, 1, 2]])\n",
    "\n",
    "# Calculate the inverse matrix B\n",
    "B = np.linalg.inv(A)\n",
    "\n",
    "# Calculate b11 + b22 + b33\n",
    "result = B[0, 0] + B[1, 1] + B[2, 2]\n",
    "\n",
    "print(result)\n"
   ],
   "metadata": {
    "collapsed": false
   }
  },
  {
   "cell_type": "code",
   "execution_count": 6,
   "outputs": [
    {
     "data": {
      "text/plain": "985162418487296.0"
     },
     "execution_count": 6,
     "metadata": {},
     "output_type": "execute_result"
    }
   ],
   "source": [
    "(1e30 + 1e15 - 1e30)"
   ],
   "metadata": {
    "collapsed": false
   }
  },
  {
   "cell_type": "code",
   "execution_count": 9,
   "outputs": [
    {
     "data": {
      "text/plain": "nan"
     },
     "execution_count": 9,
     "metadata": {},
     "output_type": "execute_result"
    }
   ],
   "source": [
    "0 * np.inf"
   ],
   "metadata": {
    "collapsed": false
   }
  },
  {
   "cell_type": "code",
   "execution_count": 15,
   "outputs": [
    {
     "data": {
      "text/plain": "0.0"
     },
     "execution_count": 15,
     "metadata": {},
     "output_type": "execute_result"
    }
   ],
   "source": [
    "1e30 + 1e10 - 1e30"
   ],
   "metadata": {
    "collapsed": false
   }
  },
  {
   "cell_type": "code",
   "execution_count": 20,
   "outputs": [
    {
     "name": "stdout",
     "output_type": "stream",
     "text": [
      "[[ 1. -2.  7.]\n",
      " [ 0.  1. -2.]\n",
      " [ 0.  0.  1.]]\n"
     ]
    }
   ],
   "source": [
    "import numpy as np\n",
    "\n",
    "# Given matrix A\n",
    "A = np.array([[1, 2, -3], [0, 1, 2], [0, 0, 1]])\n",
    "\n",
    "# Calculate the inverse matrix B\n",
    "B = np.linalg.inv(A)\n",
    "\n",
    "# Calculate b11 + b22 + b33\n",
    "result = B[0, 2]\n",
    "\n",
    "print(B)\n"
   ],
   "metadata": {
    "collapsed": false
   }
  },
  {
   "cell_type": "code",
   "execution_count": 22,
   "outputs": [
    {
     "name": "stdout",
     "output_type": "stream",
     "text": [
      "[[ 0. -2.  1.]\n",
      " [-4.  5. -2.]\n",
      " [ 5. -3.  1.]]\n"
     ]
    }
   ],
   "source": [
    "import numpy as np\n",
    "\n",
    "# Given matrix A\n",
    "A = np.array([[1, 1, 1], [6, 5, 4], [13, 10, 8]])\n",
    "\n",
    "# Calculate the inverse matrix B\n",
    "B = np.linalg.inv(A)\n",
    "\n",
    "# Calculate b11 + b22 + b33\n",
    "result = B[0, 0] + B[1, 1] + B[2, 2]\n",
    "\n",
    "print(B)"
   ],
   "metadata": {
    "collapsed": false
   }
  },
  {
   "cell_type": "code",
   "execution_count": 23,
   "outputs": [
    {
     "name": "stdout",
     "output_type": "stream",
     "text": [
      "-1.0\n"
     ]
    }
   ],
   "source": [
    "import numpy as np\n",
    "\n",
    "# Given matrix A\n",
    "A = np.array([[1, 0, 1], [0, 1, 1], [1, 1, 1]])\n",
    "\n",
    "# Calculate the inverse matrix B\n",
    "B = np.linalg.inv(A)\n",
    "\n",
    "# Calculate b11 + b22 + b33\n",
    "result = B[0, 0] + B[1, 1] + B[2, 2]\n",
    "\n",
    "print(result)\n"
   ],
   "metadata": {
    "collapsed": false
   }
  }
 ],
 "metadata": {
  "kernelspec": {
   "display_name": "Python 3",
   "language": "python",
   "name": "python3"
  },
  "language_info": {
   "codemirror_mode": {
    "name": "ipython",
    "version": 2
   },
   "file_extension": ".py",
   "mimetype": "text/x-python",
   "name": "python",
   "nbconvert_exporter": "python",
   "pygments_lexer": "ipython2",
   "version": "2.7.6"
  }
 },
 "nbformat": 4,
 "nbformat_minor": 0
}
