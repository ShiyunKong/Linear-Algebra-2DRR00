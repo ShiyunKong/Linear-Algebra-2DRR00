{
 "cells": [
  {
   "cell_type": "code",
   "execution_count": 1,
   "metadata": {
    "collapsed": true
   },
   "outputs": [
    {
     "name": "stdout",
     "output_type": "stream",
     "text": [
      "Determinant of the matrix:\n",
      "-9.51619735392994e-16\n"
     ]
    }
   ],
   "source": [
    "import numpy as np\n",
    "\n",
    "# Define a matrix\n",
    "matrix = np.array([[1, 2, 3],\n",
    "                   [4, 5, 6],\n",
    "                   [7, 8, 9]])\n",
    "\n",
    "# Calculate the determinant\n",
    "determinant = np.linalg.det(matrix)\n",
    "\n",
    "print(f\"Determinant of the matrix:\\n{determinant}\")\n"
   ]
  },
  {
   "cell_type": "code",
   "execution_count": 2,
   "outputs": [
    {
     "data": {
      "text/plain": "104.99999999999997"
     },
     "execution_count": 2,
     "metadata": {},
     "output_type": "execute_result"
    }
   ],
   "source": [
    "# Define a matrix\n",
    "matrix = np.array([\n",
    "    [1, 0, 0, 0, 2],\n",
    "    [0, 3, 0, 4, 0],\n",
    "    [0, 0, 5, 0, 0],\n",
    "    [0, 4, 0, 3, 0],\n",
    "    [2, 0, 0, 0, 1]\n",
    "])\n",
    "\n",
    "# Calculate the determinant\n",
    "np.linalg.det(matrix)"
   ],
   "metadata": {
    "collapsed": false
   }
  },
  {
   "cell_type": "code",
   "execution_count": 3,
   "outputs": [
    {
     "data": {
      "text/plain": "0.0"
     },
     "execution_count": 3,
     "metadata": {},
     "output_type": "execute_result"
    }
   ],
   "source": [
    "F = 1\n",
    "R = 10\n",
    "# Define a matrix\n",
    "matrix = np.array([\n",
    "    [F, F, R, R, 0],\n",
    "    [F, 0, R, 0, R],\n",
    "    [F, F, R, R, 0],\n",
    "    [F, 0, R, R, 0],\n",
    "    [F, 0, R, 0, R]\n",
    "])\n",
    "\n",
    "# Calculate the determinant\n",
    "np.linalg.det(matrix)"
   ],
   "metadata": {
    "collapsed": false
   }
  },
  {
   "cell_type": "code",
   "execution_count": 4,
   "outputs": [
    {
     "data": {
      "text/plain": "17.0"
     },
     "execution_count": 4,
     "metadata": {},
     "output_type": "execute_result"
    }
   ],
   "source": [
    "np.linalg.det(np.array([\n",
    "    [3, -3, 2],\n",
    "    [0, 1, 1],\n",
    "    [-4, 0, -1]\n",
    "]))"
   ],
   "metadata": {
    "collapsed": false
   }
  }
 ],
 "metadata": {
  "kernelspec": {
   "display_name": "Python 3",
   "language": "python",
   "name": "python3"
  },
  "language_info": {
   "codemirror_mode": {
    "name": "ipython",
    "version": 2
   },
   "file_extension": ".py",
   "mimetype": "text/x-python",
   "name": "python",
   "nbconvert_exporter": "python",
   "pygments_lexer": "ipython2",
   "version": "2.7.6"
  }
 },
 "nbformat": 4,
 "nbformat_minor": 0
}
