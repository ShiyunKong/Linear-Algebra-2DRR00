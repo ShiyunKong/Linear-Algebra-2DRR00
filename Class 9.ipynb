{
 "cells": [
  {
   "cell_type": "code",
   "execution_count": 2,
   "metadata": {
    "collapsed": true
   },
   "outputs": [],
   "source": [
    "import numpy as np\n",
    "from sklearn.cluster import KMeans\n",
    "import matplotlib.pyplot as plt\n",
    "import seaborn as sns"
   ]
  },
  {
   "cell_type": "code",
   "execution_count": 3,
   "outputs": [],
   "source": [
    "matrix = np.array([\n",
    "    [2, -1, 0, 0, -1, 0],\n",
    "    [-1, 3, -1, 0, -1, 0],\n",
    "    [0, -1, 2, -1, 0, 0],\n",
    "    [0, 0, -1, 3, -1, -1],\n",
    "    [-1, -1, 0, -1, 3, 0],\n",
    "    [0, 0, 0, -1, 0, 1]\n",
    "])"
   ],
   "metadata": {
    "collapsed": false
   }
  },
  {
   "cell_type": "code",
   "execution_count": 4,
   "outputs": [
    {
     "data": {
      "text/plain": "array([[ 2, -1,  0,  0, -1,  0],\n       [-1,  3, -1,  0, -1,  0],\n       [ 0, -1,  2, -1,  0,  0],\n       [ 0,  0, -1,  3, -1, -1],\n       [-1, -1,  0, -1,  3,  0],\n       [ 0,  0,  0, -1,  0,  1]])"
     },
     "execution_count": 4,
     "metadata": {},
     "output_type": "execute_result"
    }
   ],
   "source": [
    "matrix"
   ],
   "metadata": {
    "collapsed": false
   }
  },
  {
   "cell_type": "code",
   "execution_count": 5,
   "outputs": [
    {
     "data": {
      "text/plain": "array([[-0.40824829, -0.41486979, -0.50529469,  0.28867513, -0.56702343,\n        -0.03232265],\n       [-0.40824829, -0.30944167,  0.04026854,  0.28867513,  0.65812747,\n        -0.46850031],\n       [-0.40824829, -0.0692328 ,  0.75901025,  0.28867513, -0.20514371,\n         0.35640753],\n       [-0.40824829,  0.22093352,  0.20066454, -0.57735027, -0.30843449,\n        -0.56195221],\n       [-0.40824829, -0.22093352, -0.20066454, -0.57735027,  0.30843449,\n         0.56195221],\n       [-0.40824829,  0.79354426, -0.29398409,  0.28867513,  0.11403968,\n         0.14441544]])"
     },
     "execution_count": 5,
     "metadata": {},
     "output_type": "execute_result"
    }
   ],
   "source": [
    "# take all eigenvectors by index 1\n",
    "np.linalg.eig(matrix)[1]"
   ],
   "metadata": {
    "collapsed": false
   }
  },
  {
   "cell_type": "code",
   "execution_count": 6,
   "outputs": [],
   "source": [
    "matrix = np.array([\n",
    "    [2, -2, 0],\n",
    "    [-2, 3, -1],\n",
    "    [0, -1, 1]\n",
    "])"
   ],
   "metadata": {
    "collapsed": false
   }
  },
  {
   "cell_type": "code",
   "execution_count": 7,
   "outputs": [
    {
     "data": {
      "text/plain": "(array([4.73205081e+00, 5.21609666e-17, 1.26794919e+00]),\n array([[-0.57735027, -0.57735027, -0.57735027],\n        [ 0.78867513, -0.57735027, -0.21132487],\n        [-0.21132487, -0.57735027,  0.78867513]]))"
     },
     "execution_count": 7,
     "metadata": {},
     "output_type": "execute_result"
    }
   ],
   "source": [
    "np.linalg.eig(matrix)"
   ],
   "metadata": {
    "collapsed": false
   }
  },
  {
   "cell_type": "code",
   "execution_count": 8,
   "outputs": [
    {
     "data": {
      "text/plain": "(array([2.26794919, 4.        , 5.73205081]),\n array([[-0.78867513,  0.57735027,  0.21132487],\n        [-0.57735027, -0.57735027, -0.57735027],\n        [-0.21132487, -0.57735027,  0.78867513]]))"
     },
     "execution_count": 8,
     "metadata": {},
     "output_type": "execute_result"
    }
   ],
   "source": [
    "matrix = np.array([\n",
    "    [3, -1, 0],\n",
    "    [-1, 4, -1],\n",
    "    [0, -1, 5]\n",
    "])\n",
    "np.linalg.eig(matrix)"
   ],
   "metadata": {
    "collapsed": false
   }
  },
  {
   "cell_type": "code",
   "execution_count": 9,
   "outputs": [
    {
     "data": {
      "text/plain": "(array([2.99004951, 4.        , 5.00995049]),\n array([[-0.99507377,  0.09901475,  0.00492623],\n        [-0.09901475, -0.99014754, -0.09901475],\n        [-0.00492623, -0.09901475,  0.99507377]]))"
     },
     "execution_count": 9,
     "metadata": {},
     "output_type": "execute_result"
    }
   ],
   "source": [
    "matrix = np.array([\n",
    "    [3, -0.1, 0],\n",
    "    [-0.1, 4, -0.1],\n",
    "    [0, -0.1, 5]\n",
    "])\n",
    "np.linalg.eig(matrix)"
   ],
   "metadata": {
    "collapsed": false
   }
  },
  {
   "cell_type": "code",
   "execution_count": 10,
   "outputs": [
    {
     "data": {
      "text/plain": "5.009950493836207"
     },
     "execution_count": 10,
     "metadata": {},
     "output_type": "execute_result"
    }
   ],
   "source": [
    "np.linalg.norm(matrix, ord=2)"
   ],
   "metadata": {
    "collapsed": false
   }
  },
  {
   "cell_type": "code",
   "execution_count": 11,
   "outputs": [
    {
     "data": {
      "text/plain": "(array([-2.22044605e-16,  3.00000000e+00,  4.00000000e+00]),\n array([[-8.16496581e-01, -5.77350269e-01, -1.33287903e-16],\n        [-4.08248290e-01,  5.77350269e-01, -7.07106781e-01],\n        [-4.08248290e-01,  5.77350269e-01,  7.07106781e-01]]))"
     },
     "execution_count": 11,
     "metadata": {},
     "output_type": "execute_result"
    }
   ],
   "source": [
    "matrix = np.array([\n",
    "    [1, -1, -1],\n",
    "    [-1, 3, -1],\n",
    "    [-1, -1, 3]\n",
    "])\n",
    "np.linalg.eig(matrix)"
   ],
   "metadata": {
    "collapsed": false
   }
  },
  {
   "cell_type": "code",
   "execution_count": 18,
   "outputs": [
    {
     "data": {
      "text/plain": "array([[ 1.37748471e-01,  2.03175364e-01,  5.03336041e-02,\n        -3.33333333e-01,  3.73778264e-01,  1.40441056e-01,\n         8.16496581e-01,  2.95583933e-01,  4.81847370e-01],\n       [-6.44559684e-01, -6.27070595e-01, -6.91327632e-02,\n        -3.33333333e-01,  2.68196958e-01,  5.92049341e-02,\n        -4.74886867e-17, -1.48457248e-16, -1.35016587e-16],\n       [ 1.37748471e-01,  2.03175364e-01,  5.03336041e-02,\n        -3.33333333e-01,  3.73778264e-01,  1.40441056e-01,\n        -4.08248290e-01, -7.96146163e-01, -5.84046009e-01],\n       [ 1.37748471e-01,  2.03175364e-01,  5.03336041e-02,\n        -3.33333333e-01,  3.73778264e-01,  1.40441056e-01,\n        -4.08248290e-01,  5.00562231e-01,  1.02198639e-01],\n       [ 6.69132151e-01, -5.55377582e-01, -2.63445859e-01,\n        -3.33333333e-01, -1.24304670e-01, -2.18749680e-01,\n        -1.00873627e-16, -2.09388543e-16, -7.33640816e-17],\n       [-1.42999838e-01,  1.79946314e-01,  1.91807458e-01,\n        -3.33333333e-01, -1.73239787e-01, -5.18899928e-01,\n        -1.04064523e-16,  1.18783162e-01, -4.56217498e-01],\n       [-1.42999838e-01,  1.79946314e-01,  1.91807458e-01,\n        -3.33333333e-01, -1.73239787e-01, -5.18899928e-01,\n        -4.61277159e-17, -1.18783162e-01,  4.56217498e-01],\n       [-1.93081547e-01,  3.15135674e-01, -7.42979154e-01,\n        -3.33333333e-01, -3.83823671e-01,  2.30128828e-01,\n        -1.76005747e-16, -2.34972397e-16, -1.78651384e-16],\n       [ 4.12633437e-02, -1.02106215e-01,  5.40942049e-01,\n        -3.33333333e-01, -5.34923836e-01,  5.45892604e-01,\n        -2.62197496e-16,  1.50877157e-16,  1.02332281e-17]])"
     },
     "execution_count": 18,
     "metadata": {},
     "output_type": "execute_result"
    }
   ],
   "source": [
    "#C2H6O\n",
    "matrix = np.array([\n",
    "    [1, -1, 0, 0, 0, 0, 0, 0, 0],\n",
    "    [-1, 4, -1, -1, -1, 0, 0, 0, 0],\n",
    "    [0, -1, 1, 0, 0, 0, 0, 0, 0],\n",
    "    [0, -1, 0, 1, 0, 0, 0, 0, 0],\n",
    "    [0, -1, 0, 0, 4, -1, -1, -1, 0],\n",
    "    [0, 0, 0, 0, -1, 1, 0, 0, 0],\n",
    "    [0, 0, 0, 0, -1, 0, 1, 0, 0],\n",
    "    [0, 0, 0, 0, -1, 0, 0, 2, -1],\n",
    "    [0, 0, 0, 0, 0, 0, 0, -1, 1]\n",
    "])\n",
    "np.linalg.eig(matrix)[1]"
   ],
   "metadata": {
    "collapsed": false
   }
  },
  {
   "cell_type": "code",
   "execution_count": 12,
   "outputs": [],
   "source": [],
   "metadata": {
    "collapsed": false
   }
  }
 ],
 "metadata": {
  "kernelspec": {
   "display_name": "Python 3",
   "language": "python",
   "name": "python3"
  },
  "language_info": {
   "codemirror_mode": {
    "name": "ipython",
    "version": 2
   },
   "file_extension": ".py",
   "mimetype": "text/x-python",
   "name": "python",
   "nbconvert_exporter": "python",
   "pygments_lexer": "ipython2",
   "version": "2.7.6"
  }
 },
 "nbformat": 4,
 "nbformat_minor": 0
}
