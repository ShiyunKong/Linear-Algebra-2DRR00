{
 "cells": [
  {
   "cell_type": "code",
   "execution_count": 2,
   "metadata": {
    "collapsed": true
   },
   "outputs": [],
   "source": [
    "import numpy as np\n",
    "import sympy as sp\n",
    "# Compute the RREF\n",
    "def compute_rref(matrix):\n",
    "    rref_A, pivot_columns = matrix.rref()\n",
    "\n",
    "    # Display the RREF and pivot columns\n",
    "    print(\"RREF:\")\n",
    "    print(rref_A)\n",
    "    print(\"\\nPivot columns:\", pivot_columns)\n"
   ]
  },
  {
   "cell_type": "code",
   "execution_count": 5,
   "outputs": [
    {
     "name": "stdout",
     "output_type": "stream",
     "text": [
      "RREF:\n",
      "Matrix([[1, 0, -7/17], [0, 1, 1/17], [0, 0, 0]])\n",
      "\n",
      "Pivot columns: (0, 1)\n"
     ]
    }
   ],
   "source": [
    "# 2a singular because not full pivot\n",
    "matrix= sp.Matrix([\n",
    "    [3, 4, -1],\n",
    "    [-2, 3, 1],\n",
    "    [-9, 5, 4]\n",
    "])\n",
    "compute_rref(matrix)"
   ],
   "metadata": {
    "collapsed": false
   }
  },
  {
   "cell_type": "code",
   "execution_count": 7,
   "outputs": [
    {
     "name": "stdout",
     "output_type": "stream",
     "text": [
      "RREF:\n",
      "Matrix([[1, 0, 0], [0, 1, 0], [0, 0, 1]])\n",
      "\n",
      "Pivot columns: (0, 1, 2)\n"
     ]
    }
   ],
   "source": [
    "# 3a non-singular because full pivot\n",
    "matrix= sp.Matrix([\n",
    "    [3, 4, -1],\n",
    "    [-2, 3, 1],\n",
    "    [-8, 5, 4]\n",
    "])\n",
    "compute_rref(matrix)"
   ],
   "metadata": {
    "collapsed": false
   }
  },
  {
   "cell_type": "code",
   "execution_count": 8,
   "outputs": [
    {
     "name": "stdout",
     "output_type": "stream",
     "text": [
      "RREF:\n",
      "Matrix([[1, 0, 0], [0, 1, 0], [0, 0, 1]])\n",
      "\n",
      "Pivot columns: (0, 1, 2)\n"
     ]
    }
   ],
   "source": [
    "# 5g non-singular because full pivot\n",
    "matrix= sp.Matrix([\n",
    "    [0.5, 0, 0.5],\n",
    "    [0, 1, 0],\n",
    "    [-0.5, 0, 0.5]\n",
    "])\n",
    "compute_rref(matrix)"
   ],
   "metadata": {
    "collapsed": false
   }
  },
  {
   "cell_type": "code",
   "execution_count": 9,
   "outputs": [
    {
     "name": "stdout",
     "output_type": "stream",
     "text": [
      "RREF:\n",
      "Matrix([[1, 0, 0], [0, 1, 0], [0, 0, 1]])\n",
      "\n",
      "Pivot columns: (0, 1, 2)\n"
     ]
    }
   ],
   "source": [
    "# 5h non-singular because full pivot\n",
    "matrix= sp.Matrix([\n",
    "    [0.5*np.sqrt(2), 0, 0.5*np.sqrt(2)],\n",
    "    [0, 1, 0],\n",
    "    [-0.5*np.sqrt(2), 0, 0.5*np.sqrt(2)]\n",
    "])\n",
    "compute_rref(matrix)"
   ],
   "metadata": {
    "collapsed": false
   }
  }
 ],
 "metadata": {
  "kernelspec": {
   "display_name": "Python 3",
   "language": "python",
   "name": "python3"
  },
  "language_info": {
   "codemirror_mode": {
    "name": "ipython",
    "version": 2
   },
   "file_extension": ".py",
   "mimetype": "text/x-python",
   "name": "python",
   "nbconvert_exporter": "python",
   "pygments_lexer": "ipython2",
   "version": "2.7.6"
  }
 },
 "nbformat": 4,
 "nbformat_minor": 0
}
