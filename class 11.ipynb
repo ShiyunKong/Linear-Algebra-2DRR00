{
 "cells": [
  {
   "cell_type": "code",
   "execution_count": 1,
   "metadata": {
    "collapsed": true
   },
   "outputs": [
    {
     "name": "stdout",
     "output_type": "stream",
     "text": [
      "U matrix:\n",
      "[[ 0.85065081 -0.52573111]\n",
      " [ 0.52573111  0.85065081]]\n",
      "\n",
      "S matrix (singular values):\n",
      "[[1.61803399 0.        ]\n",
      " [0.         0.61803399]]\n",
      "\n",
      "VT matrix:\n",
      "[[ 0.52573111  0.85065081]\n",
      " [-0.85065081  0.52573111]]\n"
     ]
    }
   ],
   "source": [
    "import numpy as np\n",
    "\n",
    "# Your matrix (replace this with your actual matrix)\n",
    "matrix = np.array([\n",
    "    [1, 1],\n",
    "    [0, 1]\n",
    "])\n",
    "\n",
    "# Compute SVD\n",
    "U, S, VT = np.linalg.svd(matrix)\n",
    "\n",
    "print(\"U matrix:\")\n",
    "print(U)\n",
    "\n",
    "print(\"\\nS matrix (singular values):\")\n",
    "print(np.diag(S))\n",
    "\n",
    "print(\"\\nVT matrix:\")\n",
    "print(VT)\n"
   ]
  },
  {
   "cell_type": "code",
   "execution_count": 2,
   "outputs": [
    {
     "data": {
      "text/plain": "1.6180234856144702"
     },
     "execution_count": 2,
     "metadata": {},
     "output_type": "execute_result"
    }
   ],
   "source": [
    "np.sqrt(2.618)"
   ],
   "metadata": {
    "collapsed": false
   }
  },
  {
   "cell_type": "code",
   "execution_count": 3,
   "outputs": [
    {
     "name": "stdout",
     "output_type": "stream",
     "text": [
      "U matrix:\n",
      "[[0. 1.]\n",
      " [1. 0.]]\n",
      "\n",
      "S matrix (singular values):\n",
      "[[3. 0.]\n",
      " [0. 2.]]\n",
      "\n",
      "VT matrix:\n",
      "[[-1. -0.]\n",
      " [ 0.  1.]]\n"
     ]
    }
   ],
   "source": [
    "# Your matrix (replace this with your actual matrix)\n",
    "matrix = np.array([\n",
    "    [0, 2],\n",
    "    [-3, 0]\n",
    "])\n",
    "\n",
    "# Compute SVD\n",
    "U, S, VT = np.linalg.svd(matrix)\n",
    "\n",
    "print(\"U matrix:\")\n",
    "print(U)\n",
    "\n",
    "print(\"\\nS matrix (singular values):\")\n",
    "print(np.diag(S))\n",
    "\n",
    "print(\"\\nVT matrix:\")\n",
    "print(VT)"
   ],
   "metadata": {
    "collapsed": false
   }
  },
  {
   "cell_type": "code",
   "execution_count": 4,
   "outputs": [
    {
     "name": "stdout",
     "output_type": "stream",
     "text": [
      "U matrix:\n",
      "[[0. 0. 1.]\n",
      " [0. 1. 0.]\n",
      " [1. 0. 0.]]\n",
      "\n",
      "S matrix (singular values):\n",
      "[[5. 0. 0.]\n",
      " [0. 4. 0.]\n",
      " [0. 0. 1.]]\n",
      "\n",
      "VT matrix:\n",
      "[[-0. -0. -1.]\n",
      " [ 0.  1.  0.]\n",
      " [-1. -0. -0.]]\n"
     ]
    }
   ],
   "source": [
    "# Your matrix (replace this with your actual matrix)\n",
    "matrix = np.array([\n",
    "    [-1, 0, 0],\n",
    "    [0, 4, 0],\n",
    "    [0, 0, -5]\n",
    "])\n",
    "\n",
    "# Compute SVD\n",
    "U, S, VT = np.linalg.svd(matrix)\n",
    "\n",
    "print(\"U matrix:\")\n",
    "print(U)\n",
    "\n",
    "print(\"\\nS matrix (singular values):\")\n",
    "print(np.diag(S))\n",
    "\n",
    "print(\"\\nVT matrix:\")\n",
    "print(VT)"
   ],
   "metadata": {
    "collapsed": false
   }
  },
  {
   "cell_type": "code",
   "execution_count": 5,
   "outputs": [
    {
     "name": "stdout",
     "output_type": "stream",
     "text": [
      "U matrix:\n",
      "[[-0.70710678 -0.70710678]\n",
      " [-0.70710678  0.70710678]]\n",
      "\n",
      "S matrix (singular values):\n",
      "[[4.0000000e+00 0.0000000e+00]\n",
      " [0.0000000e+00 6.7094089e-17]]\n",
      "\n",
      "VT matrix:\n",
      "[[-0.70710678 -0.70710678]\n",
      " [ 0.70710678 -0.70710678]]\n"
     ]
    }
   ],
   "source": [
    "# Your matrix (replace this with your actual matrix)\n",
    "matrix = np.array([\n",
    "    [2, 2],\n",
    "    [2, 2]\n",
    "])\n",
    "\n",
    "# Compute SVD\n",
    "U, S, VT = np.linalg.svd(matrix)\n",
    "\n",
    "print(\"U matrix:\")\n",
    "print(U)\n",
    "\n",
    "print(\"\\nS matrix (singular values):\")\n",
    "print(np.diag(S))\n",
    "\n",
    "print(\"\\nVT matrix:\")\n",
    "print(VT)"
   ],
   "metadata": {
    "collapsed": false
   }
  },
  {
   "cell_type": "code",
   "execution_count": 6,
   "outputs": [],
   "source": [
    "matrix11 = np.array([\n",
    "    [1, 2],\n",
    "    [3, 4]\n",
    "])"
   ],
   "metadata": {
    "collapsed": false
   }
  },
  {
   "cell_type": "code",
   "execution_count": 7,
   "outputs": [
    {
     "data": {
      "text/plain": "array([[1, 3],\n       [2, 4]])"
     },
     "execution_count": 7,
     "metadata": {},
     "output_type": "execute_result"
    }
   ],
   "source": [
    "matrix11_t = matrix11.T\n",
    "matrix11_t"
   ],
   "metadata": {
    "collapsed": false
   }
  },
  {
   "cell_type": "code",
   "execution_count": 13,
   "outputs": [
    {
     "data": {
      "text/plain": "array([ 0.13393125, 29.86606875])"
     },
     "execution_count": 13,
     "metadata": {},
     "output_type": "execute_result"
    }
   ],
   "source": [
    "eig_11 = np.linalg.eigvals(np.dot(matrix11_t, matrix11))\n",
    "eig_11"
   ],
   "metadata": {
    "collapsed": false
   }
  },
  {
   "cell_type": "code",
   "execution_count": 10,
   "outputs": [
    {
     "data": {
      "text/plain": "array([[5.4649857 , 0.        ],\n       [0.        , 0.36596619]])"
     },
     "execution_count": 10,
     "metadata": {},
     "output_type": "execute_result"
    }
   ],
   "source": [
    "svd_11 = np.diag(np.linalg.svd(matrix11)[1])\n",
    "svd_11"
   ],
   "metadata": {
    "collapsed": false
   }
  },
  {
   "cell_type": "code",
   "execution_count": 11,
   "outputs": [
    {
     "data": {
      "text/plain": "5.464985704219043"
     },
     "execution_count": 11,
     "metadata": {},
     "output_type": "execute_result"
    }
   ],
   "source": [
    "norm_2_11 = np.linalg.norm(matrix11, ord=2)\n",
    "norm_2_11"
   ],
   "metadata": {
    "collapsed": false
   }
  },
  {
   "cell_type": "code",
   "execution_count": null,
   "outputs": [],
   "source": [],
   "metadata": {
    "collapsed": false
   }
  }
 ],
 "metadata": {
  "kernelspec": {
   "display_name": "Python 3",
   "language": "python",
   "name": "python3"
  },
  "language_info": {
   "codemirror_mode": {
    "name": "ipython",
    "version": 2
   },
   "file_extension": ".py",
   "mimetype": "text/x-python",
   "name": "python",
   "nbconvert_exporter": "python",
   "pygments_lexer": "ipython2",
   "version": "2.7.6"
  }
 },
 "nbformat": 4,
 "nbformat_minor": 0
}
